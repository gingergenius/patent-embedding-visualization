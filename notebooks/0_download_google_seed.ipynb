{
 "cells": [
  {
   "cell_type": "markdown",
   "metadata": {},
   "source": [
    "# Loading see data from BigQuery"
   ]
  },
  {
   "cell_type": "markdown",
   "metadata": {},
   "source": [
    "## Your Cloud Project ID\n",
    "You'll need a Google Cloud project with BigQuery enabled (it's enabled by default) for this notebook and associated code to work. Put your project ID below. Go to [cloud.google.com](http://cloud.google.com) to create one if you don't already have an account. You can create the Cloud account for free and won't be auto-billed. Then copy your Project ID and paste it below into `bq_project`."
   ]
  },
  {
   "cell_type": "code",
   "execution_count": 1,
   "metadata": {
    "collapsed": true
   },
   "outputs": [
    {
     "name": "stdout",
     "output_type": "stream",
     "text": [
      "env: GOOGLE_APPLICATION_CREDENTIALS=C:\\Users\\tskripnikova\\Documents\\Patent embeddings-606d19a2d0cf.json\n"
     ]
    }
   ],
   "source": [
    "bq_project = 'patent-embeddings'\n",
    "#setup authentication with service account instead of user account\n",
    "%env GOOGLE_APPLICATION_CREDENTIALS=C:\\Users\\tskripnikova\\Documents\\Patent embeddings-606d19a2d0cf.json\n",
    "    \n",
    "%load_ext autoreload\n",
    "%autoreload 2"
   ]
  },
  {
   "cell_type": "markdown",
   "metadata": {},
   "source": [
    "## Basic Configuration"
   ]
  },
  {
   "cell_type": "code",
   "execution_count": 2,
   "metadata": {
    "collapsed": true
   },
   "outputs": [],
   "source": [
    "import tensorflow as tf\n",
    "import pandas as pd\n",
    "import os\n",
    "\n",
    "#seed_name = 'hair_dryer'\n",
    "#seed_name = 'video_codec'\n",
    "#seed_name = \"contact_lens\"\n",
    "#seed_name = \"contact_lens_us_c\"\n",
    "seed_name = \"3d_printer\"\n",
    "\n",
    "seed_file = 'seeds/'+ seed_name + '.seed.csv'\n",
    "\n",
    "src_dir = \".\"\n",
    "\n",
    "patent_dataset = 'patents-public-data:patents.publications_latest'\n",
    "num_anti_seed_patents = 15000\n",
    "if bq_project == '':\n",
    "    raise Exception('You must enter a bq_project above for this code to run.')"
   ]
  },
  {
   "cell_type": "markdown",
   "metadata": {},
   "source": [
    "## Patent Landscape Expansion\n",
    "\n",
    "This section of the notebook creates an instance of the `PatentLandscapeExpander`, which accesses a BigQuery table of patent data to do the expansion of a provided seed set and produces each expansion level as well as the final training dataset as a Pandas dataframe."
   ]
  },
  {
   "cell_type": "code",
   "execution_count": 3,
   "metadata": {
    "collapsed": true
   },
   "outputs": [],
   "source": [
    "import fiz_lernmodule.expansion\n",
    "\n",
    "expander = fiz_lernmodule.expansion.PatentLandscapeExpander(\n",
    "    seed_file,\n",
    "    seed_name,\n",
    "    bq_project=bq_project,\n",
    "    patent_dataset=patent_dataset,\n",
    "    num_antiseed=num_anti_seed_patents,\n",
    "    us_only=True,\n",
    "    prepare_training=False)\n"
   ]
  },
  {
   "cell_type": "markdown",
   "metadata": {},
   "source": [
    "This does the actual expansion and displays the head of the final training data dataframe."
   ]
  },
  {
   "cell_type": "code",
   "execution_count": 4,
   "metadata": {
    "scrolled": true
   },
   "outputs": [
    {
     "name": "stdout",
     "output_type": "stream",
     "text": [
      "Loading landscape data from BigQuery.\n",
      "Loaded 3152 seed publication numbers\n"
     ]
    },
    {
     "name": "stderr",
     "output_type": "stream",
     "text": [
      "C:\\Users\\tskripnikova\\Anaconda3\\envs\\vis_emb\\lib\\site-packages\\pandas\\io\\gbq.py:108: FutureWarning: verbose is deprecated and will be removed in a future version. Set logging level in order to vary verbosity\n",
      "  **kwargs)\n"
     ]
    },
    {
     "name": "stdout",
     "output_type": "stream",
     "text": [
      "Loaded 2854 seed patents from BigQuery\n",
      "Loading training data text from (2854, 2) publication numbers\n",
      "Loading dataframe with cols Index(['publication_number'], dtype='object'), shape (2854, 1), to patents._tmp_training\n"
     ]
    },
    {
     "name": "stderr",
     "output_type": "stream",
     "text": [
      "C:\\Users\\tskripnikova\\Anaconda3\\envs\\vis_emb\\lib\\site-packages\\pandas_gbq\\gbq.py:985: FutureWarning: verbose is deprecated and will be removed in a future version. Set logging level in order to vary verbosity\n",
      "  stacklevel=1,\n",
      "1it [00:04,  4.52s/it]\n"
     ]
    },
    {
     "name": "stdout",
     "output_type": "stream",
     "text": [
      "Completed loading temp table.\n",
      "Loading patent texts from provided publication numbers.\n",
      "(2595, 12)\n",
      "Merging labels into training data.\n",
      "Saving landscape data to data\\contact_lens_us_c\\landscape_data.pkl.\n",
      "Wall time: 58.2 s\n"
     ]
    }
   ],
   "source": [
    "%%time\n",
    "\n",
    "training_data_full_df, seed_patents_df, l1_patents_df, l2_patents_df, anti_seed_patents = \\\n",
    "    expander.load_from_disk_or_do_expansion()"
   ]
  },
  {
   "cell_type": "code",
   "execution_count": 5,
   "metadata": {},
   "outputs": [
    {
     "data": {
      "text/html": [
       "<div>\n",
       "<style scoped>\n",
       "    .dataframe tbody tr th:only-of-type {\n",
       "        vertical-align: middle;\n",
       "    }\n",
       "\n",
       "    .dataframe tbody tr th {\n",
       "        vertical-align: top;\n",
       "    }\n",
       "\n",
       "    .dataframe thead th {\n",
       "        text-align: right;\n",
       "    }\n",
       "</style>\n",
       "<table border=\"1\" class=\"dataframe\">\n",
       "  <thead>\n",
       "    <tr style=\"text-align: right;\">\n",
       "      <th></th>\n",
       "      <th>pub_num</th>\n",
       "      <th>publication_number</th>\n",
       "      <th>country_code</th>\n",
       "      <th>family_id</th>\n",
       "      <th>priority_date</th>\n",
       "      <th>title_text</th>\n",
       "      <th>abstract_text</th>\n",
       "      <th>claims_text</th>\n",
       "      <th>refs</th>\n",
       "      <th>cpcs</th>\n",
       "      <th>ipcs</th>\n",
       "      <th>assignees_harmonized</th>\n",
       "      <th>ExpansionLevel</th>\n",
       "    </tr>\n",
       "  </thead>\n",
       "  <tbody>\n",
       "    <tr>\n",
       "      <th>0</th>\n",
       "      <td>6536898</td>\n",
       "      <td>US-6536898-B1</td>\n",
       "      <td>US</td>\n",
       "      <td>24663616</td>\n",
       "      <td>20000915</td>\n",
       "      <td>Extended depth of field optics for human vision</td>\n",
       "      <td>The present invention provides extended depth ...</td>\n",
       "      <td>What is claimed is:  \\n     \\n       1. Appara...</td>\n",
       "      <td>US-5748371-A,US-5476515-A,</td>\n",
       "      <td>A61F2002/1699,A61F2250/0036,A61F2/1624,G02C7/0...</td>\n",
       "      <td>A61F2/16,A61F2/14,G02B3/00,G02C7/04</td>\n",
       "      <td>UNIV COLORADO</td>\n",
       "      <td>Seed</td>\n",
       "    </tr>\n",
       "    <tr>\n",
       "      <th>1</th>\n",
       "      <td>2014036225</td>\n",
       "      <td>US-2014036225-A1</td>\n",
       "      <td>US</td>\n",
       "      <td>48875618</td>\n",
       "      <td>20120731</td>\n",
       "      <td>Lens incorporating myopia control optics and m...</td>\n",
       "      <td>Ophthalmic devices, such as contact lenses, ma...</td>\n",
       "      <td>What is claimed is: \\n     \\n         1 . An o...</td>\n",
       "      <td>US-2008194481-A1,US-7637612-B2,US-2010239637-A...</td>\n",
       "      <td>A61K31/5513,G02C7/04,G02C7/041,A61K31/46,G02C2...</td>\n",
       "      <td>G02C7/04</td>\n",
       "      <td>SHEDDEN JR ARTHUR H,CHENG XU,CHEHAB KHALED</td>\n",
       "      <td>Seed</td>\n",
       "    </tr>\n",
       "    <tr>\n",
       "      <th>2</th>\n",
       "      <td>2017164704</td>\n",
       "      <td>US-2017164704-A1</td>\n",
       "      <td>US</td>\n",
       "      <td>34915775</td>\n",
       "      <td>20020817</td>\n",
       "      <td>Packaging for Disposable Soft Contact Lenses</td>\n",
       "      <td>The present disclosure provides a contact lens...</td>\n",
       "      <td>What is claimed is: \\n     \\n         1 . A si...</td>\n",
       "      <td>US-4782942-A,US-2002175177-A1,US-3610516-A,GB-...</td>\n",
       "      <td>B65D75/30,B65D83/005,B65D75/32,A45C11/005,B65D...</td>\n",
       "      <td>B65D81/22,B65D75/52,B65D85/38,B65D75/28,B65D75...</td>\n",
       "      <td>MENICON SINGAPORE PTE LTD</td>\n",
       "      <td>Seed</td>\n",
       "    </tr>\n",
       "    <tr>\n",
       "      <th>3</th>\n",
       "      <td>5401431</td>\n",
       "      <td>US-5401431-A</td>\n",
       "      <td>US</td>\n",
       "      <td>17709917</td>\n",
       "      <td>19921001</td>\n",
       "      <td>Cleaning-preserving aqueous solution for conta...</td>\n",
       "      <td>A cleaning-preserving aqueous solution for con...</td>\n",
       "      <td>We claim: \\n     \\n       1. A cleaning-preser...</td>\n",
       "      <td>JP-H0368503-A,JP-H02115116-A,JP-H04342508-A,JP...</td>\n",
       "      <td>C11D3/0078,C11D1/74,A61L12/04</td>\n",
       "      <td>G02C13/00,C11D3/00,C11D1/722,C11D1/74,A61L2/04...</td>\n",
       "      <td>TOMEI SANGYO KK</td>\n",
       "      <td>Seed</td>\n",
       "    </tr>\n",
       "    <tr>\n",
       "      <th>4</th>\n",
       "      <td>2011019148</td>\n",
       "      <td>US-2011019148-A1</td>\n",
       "      <td>US</td>\n",
       "      <td>43497041</td>\n",
       "      <td>20090727</td>\n",
       "      <td>Multifocal diffractive contact lens with bi-si...</td>\n",
       "      <td>A contact lens for placing over the eye is des...</td>\n",
       "      <td>1 . An optic comprising a contact lens having ...</td>\n",
       "      <td>US-4340283-A,US-5054905-A,US-5114483-A,US-4655...</td>\n",
       "      <td>G02C7/042,G02C2202/20,G02C7/041</td>\n",
       "      <td>G02C7/04</td>\n",
       "      <td>PORTNEY VALDEMAR</td>\n",
       "      <td>Seed</td>\n",
       "    </tr>\n",
       "  </tbody>\n",
       "</table>\n",
       "</div>"
      ],
      "text/plain": [
       "      pub_num publication_number country_code family_id  priority_date  \\\n",
       "0     6536898      US-6536898-B1           US  24663616       20000915   \n",
       "1  2014036225   US-2014036225-A1           US  48875618       20120731   \n",
       "2  2017164704   US-2017164704-A1           US  34915775       20020817   \n",
       "3     5401431       US-5401431-A           US  17709917       19921001   \n",
       "4  2011019148   US-2011019148-A1           US  43497041       20090727   \n",
       "\n",
       "                                          title_text  \\\n",
       "0    Extended depth of field optics for human vision   \n",
       "1  Lens incorporating myopia control optics and m...   \n",
       "2       Packaging for Disposable Soft Contact Lenses   \n",
       "3  Cleaning-preserving aqueous solution for conta...   \n",
       "4  Multifocal diffractive contact lens with bi-si...   \n",
       "\n",
       "                                       abstract_text  \\\n",
       "0  The present invention provides extended depth ...   \n",
       "1  Ophthalmic devices, such as contact lenses, ma...   \n",
       "2  The present disclosure provides a contact lens...   \n",
       "3  A cleaning-preserving aqueous solution for con...   \n",
       "4  A contact lens for placing over the eye is des...   \n",
       "\n",
       "                                         claims_text  \\\n",
       "0  What is claimed is:  \\n     \\n       1. Appara...   \n",
       "1  What is claimed is: \\n     \\n         1 . An o...   \n",
       "2  What is claimed is: \\n     \\n         1 . A si...   \n",
       "3  We claim: \\n     \\n       1. A cleaning-preser...   \n",
       "4  1 . An optic comprising a contact lens having ...   \n",
       "\n",
       "                                                refs  \\\n",
       "0                         US-5748371-A,US-5476515-A,   \n",
       "1  US-2008194481-A1,US-7637612-B2,US-2010239637-A...   \n",
       "2  US-4782942-A,US-2002175177-A1,US-3610516-A,GB-...   \n",
       "3  JP-H0368503-A,JP-H02115116-A,JP-H04342508-A,JP...   \n",
       "4  US-4340283-A,US-5054905-A,US-5114483-A,US-4655...   \n",
       "\n",
       "                                                cpcs  \\\n",
       "0  A61F2002/1699,A61F2250/0036,A61F2/1624,G02C7/0...   \n",
       "1  A61K31/5513,G02C7/04,G02C7/041,A61K31/46,G02C2...   \n",
       "2  B65D75/30,B65D83/005,B65D75/32,A45C11/005,B65D...   \n",
       "3                      C11D3/0078,C11D1/74,A61L12/04   \n",
       "4                    G02C7/042,G02C2202/20,G02C7/041   \n",
       "\n",
       "                                                ipcs  \\\n",
       "0                A61F2/16,A61F2/14,G02B3/00,G02C7/04   \n",
       "1                                           G02C7/04   \n",
       "2  B65D81/22,B65D75/52,B65D85/38,B65D75/28,B65D75...   \n",
       "3  G02C13/00,C11D3/00,C11D1/722,C11D1/74,A61L2/04...   \n",
       "4                                           G02C7/04   \n",
       "\n",
       "                         assignees_harmonized ExpansionLevel  \n",
       "0                               UNIV COLORADO           Seed  \n",
       "1  SHEDDEN JR ARTHUR H,CHENG XU,CHEHAB KHALED           Seed  \n",
       "2                   MENICON SINGAPORE PTE LTD           Seed  \n",
       "3                             TOMEI SANGYO KK           Seed  \n",
       "4                            PORTNEY VALDEMAR           Seed  "
      ]
     },
     "execution_count": 5,
     "metadata": {},
     "output_type": "execute_result"
    }
   ],
   "source": [
    "training_data_full_df.head()"
   ]
  },
  {
   "cell_type": "markdown",
   "metadata": {},
   "source": [
    "### Show some stats about the landscape training data"
   ]
  },
  {
   "cell_type": "code",
   "execution_count": 6,
   "metadata": {},
   "outputs": [
    {
     "name": "stdout",
     "output_type": "stream",
     "text": [
      "Seed/Positive examples:\n",
      "pub_num                 2595\n",
      "publication_number      2595\n",
      "country_code            2595\n",
      "family_id               2595\n",
      "priority_date           2595\n",
      "title_text              2595\n",
      "abstract_text           2595\n",
      "claims_text             2595\n",
      "refs                    2595\n",
      "cpcs                    2595\n",
      "ipcs                    2595\n",
      "assignees_harmonized    2595\n",
      "ExpansionLevel          2595\n",
      "dtype: int64\n",
      "\n",
      "\n",
      "Anti-Seed/Negative examples:\n",
      "pub_num                 0\n",
      "publication_number      0\n",
      "country_code            0\n",
      "family_id               0\n",
      "priority_date           0\n",
      "title_text              0\n",
      "abstract_text           0\n",
      "claims_text             0\n",
      "refs                    0\n",
      "cpcs                    0\n",
      "ipcs                    0\n",
      "assignees_harmonized    0\n",
      "ExpansionLevel          0\n",
      "dtype: int64\n"
     ]
    }
   ],
   "source": [
    "print('Seed/Positive examples:')\n",
    "print(training_data_full_df[training_data_full_df.ExpansionLevel == 'Seed'].count())\n",
    "\n",
    "print('\\n\\nAnti-Seed/Negative examples:')\n",
    "print(training_data_full_df[training_data_full_df.ExpansionLevel == 'AntiSeed'].count())"
   ]
  },
  {
   "cell_type": "code",
   "execution_count": null,
   "metadata": {},
   "outputs": [],
   "source": []
  }
 ],
 "metadata": {
  "kernelspec": {
   "display_name": "Python 3",
   "language": "python",
   "name": "python3"
  },
  "language_info": {
   "codemirror_mode": {
    "name": "ipython",
    "version": 3
   },
   "file_extension": ".py",
   "mimetype": "text/x-python",
   "name": "python",
   "nbconvert_exporter": "python",
   "pygments_lexer": "ipython3",
   "version": "3.6.7"
  }
 },
 "nbformat": 4,
 "nbformat_minor": 2
}
