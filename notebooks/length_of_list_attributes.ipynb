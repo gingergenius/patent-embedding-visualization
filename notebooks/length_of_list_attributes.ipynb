{
 "cells": [
  {
   "cell_type": "markdown",
   "metadata": {},
   "source": [
    "# Exploring length of list attributes"
   ]
  },
  {
   "cell_type": "code",
   "execution_count": 1,
   "metadata": {},
   "outputs": [],
   "source": [
    "#TODO: remove after development \n",
    "%load_ext autoreload\n",
    "%autoreload 2"
   ]
  },
  {
   "cell_type": "code",
   "execution_count": 2,
   "metadata": {},
   "outputs": [],
   "source": [
    "%matplotlib inline"
   ]
  },
  {
   "cell_type": "code",
   "execution_count": 3,
   "metadata": {},
   "outputs": [],
   "source": [
    "import pandas as pd\n",
    "import numpy as np\n",
    "import seaborn as sns\n",
    "\n",
    "pd.set_option('display.max_columns', 5400)\n",
    "pd.set_option('max_colwidth', 60)"
   ]
  },
  {
   "cell_type": "markdown",
   "metadata": {},
   "source": [
    "## Loading data"
   ]
  },
  {
   "cell_type": "code",
   "execution_count": 4,
   "metadata": {},
   "outputs": [
    {
     "name": "stdout",
     "output_type": "stream",
     "text": [
      "(2595, 23)\n"
     ]
    },
    {
     "data": {
      "text/html": [
       "<div>\n",
       "<style scoped>\n",
       "    .dataframe tbody tr th:only-of-type {\n",
       "        vertical-align: middle;\n",
       "    }\n",
       "\n",
       "    .dataframe tbody tr th {\n",
       "        vertical-align: top;\n",
       "    }\n",
       "\n",
       "    .dataframe thead th {\n",
       "        text-align: right;\n",
       "    }\n",
       "</style>\n",
       "<table border=\"1\" class=\"dataframe\">\n",
       "  <thead>\n",
       "    <tr style=\"text-align: right;\">\n",
       "      <th></th>\n",
       "      <th>abstract_text</th>\n",
       "      <th>assignees</th>\n",
       "      <th>before_slash</th>\n",
       "      <th>claims_text</th>\n",
       "      <th>country_code</th>\n",
       "      <th>day</th>\n",
       "      <th>family_id</th>\n",
       "      <th>first_letters</th>\n",
       "      <th>four_letters</th>\n",
       "      <th>ipc_classes</th>\n",
       "      <th>month</th>\n",
       "      <th>priority_date</th>\n",
       "      <th>pub_num</th>\n",
       "      <th>publication_number</th>\n",
       "      <th>raw_assignees</th>\n",
       "      <th>referenced_by</th>\n",
       "      <th>references</th>\n",
       "      <th>terms</th>\n",
       "      <th>three_letters</th>\n",
       "      <th>title_text</th>\n",
       "      <th>x</th>\n",
       "      <th>y</th>\n",
       "      <th>year</th>\n",
       "    </tr>\n",
       "  </thead>\n",
       "  <tbody>\n",
       "    <tr>\n",
       "      <th>0</th>\n",
       "      <td>The present invention provides extended depth of focus (...</td>\n",
       "      <td>[UNIV COLORADO]</td>\n",
       "      <td>[A61F2, G02B3, G02C7]</td>\n",
       "      <td>What is claimed is:  \\n     \\n       1. Apparatus for in...</td>\n",
       "      <td>US</td>\n",
       "      <td>15</td>\n",
       "      <td>24663616</td>\n",
       "      <td>[A, G]</td>\n",
       "      <td>[A61F, G02B, G02C]</td>\n",
       "      <td>[A61F2/14, A61F2/16, G02B3/00, G02C7/04]</td>\n",
       "      <td>9</td>\n",
       "      <td>20000915</td>\n",
       "      <td>6536898</td>\n",
       "      <td>US-6536898-B1</td>\n",
       "      <td>[UNIV COLORADO]</td>\n",
       "      <td>[US-9329407-B2, US-7025454-B2, US-9759930-B2, US-1020352...</td>\n",
       "      <td>[US-5748371-A, US-5476515-A]</td>\n",
       "      <td>[transfer function, mask, light transmitted, affecting, ...</td>\n",
       "      <td>[A61, G02]</td>\n",
       "      <td>Extended depth of field optics for human vision</td>\n",
       "      <td>21.329716</td>\n",
       "      <td>-61.530895</td>\n",
       "      <td>2000</td>\n",
       "    </tr>\n",
       "    <tr>\n",
       "      <th>1</th>\n",
       "      <td>Ophthalmic devices, such as contact lenses, may incorpor...</td>\n",
       "      <td>[CHENG XU, CHEHAB KHALED, SHEDDEN JR ARTHUR H]</td>\n",
       "      <td>[G02C7]</td>\n",
       "      <td>What is claimed is: \\n     \\n         1 . An ophthalmic ...</td>\n",
       "      <td>US</td>\n",
       "      <td>31</td>\n",
       "      <td>48875618</td>\n",
       "      <td>[G]</td>\n",
       "      <td>[G02C]</td>\n",
       "      <td>[G02C7/04]</td>\n",
       "      <td>7</td>\n",
       "      <td>20120731</td>\n",
       "      <td>2014036225</td>\n",
       "      <td>US-2014036225-A1</td>\n",
       "      <td>[SHEDDEN JR ARTHUR H, CHENG XU, CHEHAB KHALED]</td>\n",
       "      <td>[US-9759930-B2, US-10203522-B2, US-9541773-B2, US-953526...</td>\n",
       "      <td>[US-2008194481-A1, US-7637612-B2, US-2010239637-A1, US-2...</td>\n",
       "      <td>[myopia progression, inhibiting, progression, myopia, pr...</td>\n",
       "      <td>[G02]</td>\n",
       "      <td>Lens incorporating myopia control optics and muscarinic ...</td>\n",
       "      <td>30.915665</td>\n",
       "      <td>-72.581940</td>\n",
       "      <td>2012</td>\n",
       "    </tr>\n",
       "    <tr>\n",
       "      <th>2</th>\n",
       "      <td>The present disclosure provides a contact lens package c...</td>\n",
       "      <td>[ALCON MFG LTD]</td>\n",
       "      <td>[A45C11, A47F1, A61F9, B32B1, B32B3, B65B11, B65D65, B65...</td>\n",
       "      <td>What is claimed is: \\n     \\n         1 . A single-use p...</td>\n",
       "      <td>US</td>\n",
       "      <td>17</td>\n",
       "      <td>34915775</td>\n",
       "      <td>[A, B, G]</td>\n",
       "      <td>[A45C, A47F, A61F, B32B, B65B, B65D, G02C, G11B]</td>\n",
       "      <td>[A45C11/00, A45C11/04, A47F1/00, A61F9/00, B32B1/06, B32...</td>\n",
       "      <td>8</td>\n",
       "      <td>20020817</td>\n",
       "      <td>2017164704</td>\n",
       "      <td>US-2017164704-A1</td>\n",
       "      <td>[MENICON SINGAPORE PTE LTD]</td>\n",
       "      <td>[]</td>\n",
       "      <td>[US-4782942-A, US-2002175177-A1, US-3610516-A, GB-208540...</td>\n",
       "      <td>[sheets, package, hydration medium, package package, spa...</td>\n",
       "      <td>[A45, A47, A61, B32, B65, G02, G11]</td>\n",
       "      <td>Packaging for Disposable Soft Contact Lenses</td>\n",
       "      <td>-17.739506</td>\n",
       "      <td>21.483154</td>\n",
       "      <td>2002</td>\n",
       "    </tr>\n",
       "    <tr>\n",
       "      <th>3</th>\n",
       "      <td>A cleaning-preserving aqueous solution for contact lense...</td>\n",
       "      <td>[TOMEI SANGYO KK]</td>\n",
       "      <td>[A61L12, A61L2, C11D1, C11D3, G02C13]</td>\n",
       "      <td>We claim: \\n     \\n       1. A cleaning-preserving aqueo...</td>\n",
       "      <td>US</td>\n",
       "      <td>1</td>\n",
       "      <td>17709917</td>\n",
       "      <td>[A, C, G]</td>\n",
       "      <td>[A61L, C11D, G02C]</td>\n",
       "      <td>[A61L12/04, A61L2/04, C11D1/722, C11D1/74, C11D3/00, G02...</td>\n",
       "      <td>10</td>\n",
       "      <td>19921001</td>\n",
       "      <td>5401431</td>\n",
       "      <td>US-5401431-A</td>\n",
       "      <td>[TOMEI SANGYO KK]</td>\n",
       "      <td>[]</td>\n",
       "      <td>[JP-H0368503-A, JP-H02115116-A, JP-H04342508-A, JP-H0416...</td>\n",
       "      <td>[preserving, sorbitol, solution contact, polyoxyethylene...</td>\n",
       "      <td>[A61, C11, G02]</td>\n",
       "      <td>Cleaning-preserving aqueous solution for contact lenses ...</td>\n",
       "      <td>45.706642</td>\n",
       "      <td>43.502560</td>\n",
       "      <td>1992</td>\n",
       "    </tr>\n",
       "    <tr>\n",
       "      <th>4</th>\n",
       "      <td>A contact lens for placing over the eye is described. Th...</td>\n",
       "      <td>[PORTNEY VALDEMAR]</td>\n",
       "      <td>[G02C7]</td>\n",
       "      <td>1 . An optic comprising a contact lens having a front an...</td>\n",
       "      <td>US</td>\n",
       "      <td>27</td>\n",
       "      <td>43497041</td>\n",
       "      <td>[G]</td>\n",
       "      <td>[G02C]</td>\n",
       "      <td>[G02C7/04]</td>\n",
       "      <td>7</td>\n",
       "      <td>20090727</td>\n",
       "      <td>2011019148</td>\n",
       "      <td>US-2011019148-A1</td>\n",
       "      <td>[PORTNEY VALDEMAR]</td>\n",
       "      <td>[US-9248309-B2]</td>\n",
       "      <td>[US-4340283-A, US-5054905-A, US-5114483-A, US-4655565-A,...</td>\n",
       "      <td>[sign, longitudinal, ray, front surfaces, aberration, ba...</td>\n",
       "      <td>[G02]</td>\n",
       "      <td>Multifocal diffractive contact lens with bi-sign surface...</td>\n",
       "      <td>9.096503</td>\n",
       "      <td>-68.840988</td>\n",
       "      <td>2009</td>\n",
       "    </tr>\n",
       "  </tbody>\n",
       "</table>\n",
       "</div>"
      ],
      "text/plain": [
       "                                                 abstract_text  \\\n",
       "0  The present invention provides extended depth of focus (...   \n",
       "1  Ophthalmic devices, such as contact lenses, may incorpor...   \n",
       "2  The present disclosure provides a contact lens package c...   \n",
       "3  A cleaning-preserving aqueous solution for contact lense...   \n",
       "4  A contact lens for placing over the eye is described. Th...   \n",
       "\n",
       "                                        assignees  \\\n",
       "0                                 [UNIV COLORADO]   \n",
       "1  [CHENG XU, CHEHAB KHALED, SHEDDEN JR ARTHUR H]   \n",
       "2                                 [ALCON MFG LTD]   \n",
       "3                               [TOMEI SANGYO KK]   \n",
       "4                              [PORTNEY VALDEMAR]   \n",
       "\n",
       "                                                  before_slash  \\\n",
       "0                                        [A61F2, G02B3, G02C7]   \n",
       "1                                                      [G02C7]   \n",
       "2  [A45C11, A47F1, A61F9, B32B1, B32B3, B65B11, B65D65, B65...   \n",
       "3                        [A61L12, A61L2, C11D1, C11D3, G02C13]   \n",
       "4                                                      [G02C7]   \n",
       "\n",
       "                                                   claims_text country_code  \\\n",
       "0  What is claimed is:  \\n     \\n       1. Apparatus for in...           US   \n",
       "1  What is claimed is: \\n     \\n         1 . An ophthalmic ...           US   \n",
       "2  What is claimed is: \\n     \\n         1 . A single-use p...           US   \n",
       "3  We claim: \\n     \\n       1. A cleaning-preserving aqueo...           US   \n",
       "4  1 . An optic comprising a contact lens having a front an...           US   \n",
       "\n",
       "   day  family_id first_letters  \\\n",
       "0   15   24663616        [A, G]   \n",
       "1   31   48875618           [G]   \n",
       "2   17   34915775     [A, B, G]   \n",
       "3    1   17709917     [A, C, G]   \n",
       "4   27   43497041           [G]   \n",
       "\n",
       "                                       four_letters  \\\n",
       "0                                [A61F, G02B, G02C]   \n",
       "1                                            [G02C]   \n",
       "2  [A45C, A47F, A61F, B32B, B65B, B65D, G02C, G11B]   \n",
       "3                                [A61L, C11D, G02C]   \n",
       "4                                            [G02C]   \n",
       "\n",
       "                                                   ipc_classes  month  \\\n",
       "0                     [A61F2/14, A61F2/16, G02B3/00, G02C7/04]      9   \n",
       "1                                                   [G02C7/04]      7   \n",
       "2  [A45C11/00, A45C11/04, A47F1/00, A61F9/00, B32B1/06, B32...      8   \n",
       "3  [A61L12/04, A61L2/04, C11D1/722, C11D1/74, C11D3/00, G02...     10   \n",
       "4                                                   [G02C7/04]      7   \n",
       "\n",
       "   priority_date     pub_num publication_number  \\\n",
       "0       20000915     6536898      US-6536898-B1   \n",
       "1       20120731  2014036225   US-2014036225-A1   \n",
       "2       20020817  2017164704   US-2017164704-A1   \n",
       "3       19921001     5401431       US-5401431-A   \n",
       "4       20090727  2011019148   US-2011019148-A1   \n",
       "\n",
       "                                    raw_assignees  \\\n",
       "0                                 [UNIV COLORADO]   \n",
       "1  [SHEDDEN JR ARTHUR H, CHENG XU, CHEHAB KHALED]   \n",
       "2                     [MENICON SINGAPORE PTE LTD]   \n",
       "3                               [TOMEI SANGYO KK]   \n",
       "4                              [PORTNEY VALDEMAR]   \n",
       "\n",
       "                                                 referenced_by  \\\n",
       "0  [US-9329407-B2, US-7025454-B2, US-9759930-B2, US-1020352...   \n",
       "1  [US-9759930-B2, US-10203522-B2, US-9541773-B2, US-953526...   \n",
       "2                                                           []   \n",
       "3                                                           []   \n",
       "4                                              [US-9248309-B2]   \n",
       "\n",
       "                                                    references  \\\n",
       "0                                 [US-5748371-A, US-5476515-A]   \n",
       "1  [US-2008194481-A1, US-7637612-B2, US-2010239637-A1, US-2...   \n",
       "2  [US-4782942-A, US-2002175177-A1, US-3610516-A, GB-208540...   \n",
       "3  [JP-H0368503-A, JP-H02115116-A, JP-H04342508-A, JP-H0416...   \n",
       "4  [US-4340283-A, US-5054905-A, US-5114483-A, US-4655565-A,...   \n",
       "\n",
       "                                                         terms  \\\n",
       "0  [transfer function, mask, light transmitted, affecting, ...   \n",
       "1  [myopia progression, inhibiting, progression, myopia, pr...   \n",
       "2  [sheets, package, hydration medium, package package, spa...   \n",
       "3  [preserving, sorbitol, solution contact, polyoxyethylene...   \n",
       "4  [sign, longitudinal, ray, front surfaces, aberration, ba...   \n",
       "\n",
       "                         three_letters  \\\n",
       "0                           [A61, G02]   \n",
       "1                                [G02]   \n",
       "2  [A45, A47, A61, B32, B65, G02, G11]   \n",
       "3                      [A61, C11, G02]   \n",
       "4                                [G02]   \n",
       "\n",
       "                                                    title_text          x  \\\n",
       "0              Extended depth of field optics for human vision  21.329716   \n",
       "1  Lens incorporating myopia control optics and muscarinic ...  30.915665   \n",
       "2                 Packaging for Disposable Soft Contact Lenses -17.739506   \n",
       "3  Cleaning-preserving aqueous solution for contact lenses ...  45.706642   \n",
       "4  Multifocal diffractive contact lens with bi-sign surface...   9.096503   \n",
       "\n",
       "           y  year  \n",
       "0 -61.530895  2000  \n",
       "1 -72.581940  2012  \n",
       "2  21.483154  2002  \n",
       "3  43.502560  1992  \n",
       "4 -68.840988  2009  "
      ]
     },
     "execution_count": 4,
     "metadata": {},
     "output_type": "execute_result"
    }
   ],
   "source": [
    "#seed_name = 'hair_dryer'\n",
    "#seed_name = 'video_codec'\n",
    "#seed_name = 'diesel'\n",
    "\n",
    "seed_name = 'contact_lens_us_c'\n",
    "\n",
    "src_dir = \"../demo/data/baseline/\"\n",
    "\n",
    "df = pd.read_json(src_dir + seed_name + \".json\")\n",
    "\n",
    "print(df.shape)\n",
    "df.head()"
   ]
  },
  {
   "cell_type": "code",
   "execution_count": 9,
   "metadata": {},
   "outputs": [
    {
     "name": "stdout",
     "output_type": "stream",
     "text": [
      "Average first_letters per document:  1.8728323699421965\n"
     ]
    },
    {
     "data": {
      "image/png": "[encoded data removed]",
      "text/plain": [
       "<Figure size 432x288 with 1 Axes>"
      ]
     },
     "metadata": {
      "needs_background": "light"
     },
     "output_type": "display_data"
    },
    {
     "name": "stdout",
     "output_type": "stream",
     "text": [
      "Average three_letters per document:  2.1017341040462427\n"
     ]
    },
    {
     "data": {
      "image/png": "[encoded data removed]",
      "text/plain": [
       "<Figure size 432x288 with 1 Axes>"
      ]
     },
     "metadata": {
      "needs_background": "light"
     },
     "output_type": "display_data"
    },
    {
     "name": "stdout",
     "output_type": "stream",
     "text": [
      "Average before_slash per document:  3.3364161849710983\n"
     ]
    },
    {
     "data": {
      "image/png": "[encoded data removed]",
      "text/plain": [
       "<Figure size 432x288 with 1 Axes>"
      ]
     },
     "metadata": {
      "needs_background": "light"
     },
     "output_type": "display_data"
    },
    {
     "name": "stdout",
     "output_type": "stream",
     "text": [
      "Average ipc_classes per document:  4.91868978805395\n"
     ]
    },
    {
     "data": {
      "image/png": "[encoded data removed]",
      "text/plain": [
       "<Figure size 432x288 with 1 Axes>"
      ]
     },
     "metadata": {
      "needs_background": "light"
     },
     "output_type": "display_data"
    },
    {
     "name": "stdout",
     "output_type": "stream",
     "text": [
      "Average four_letters per document:  2.7915221579961464\n"
     ]
    },
    {
     "data": {
      "image/png": "[encoded data removed]",
      "text/plain": [
       "<Figure size 432x288 with 1 Axes>"
      ]
     },
     "metadata": {
      "needs_background": "light"
     },
     "output_type": "display_data"
    },
    {
     "name": "stdout",
     "output_type": "stream",
     "text": [
      "Average assignees per document:  1.5506743737957611\n"
     ]
    },
    {
     "data": {
      "image/png": "[encoded data removed]",
      "text/plain": [
       "<Figure size 432x288 with 1 Axes>"
      ]
     },
     "metadata": {
      "needs_background": "light"
     },
     "output_type": "display_data"
    }
   ],
   "source": [
    "import matplotlib.pyplot as plt\n",
    "import seaborn as sns\n",
    "\n",
    "stats = pd.DataFrame()\n",
    "columns = {'assignees', 'ipc_classes', 'first_letters', 'three_letters', 'four_letters', 'before_slash'}\n",
    "  \n",
    "for column in columns:\n",
    "    \n",
    "    stats[column] = df[column].apply(lambda x: len(x))    \n",
    "    m = np.mean(stats[column])\n",
    "    print(\"Average \" + column + \" per document: \", m)\n",
    "\n",
    "    sns.distplot(stats[column], kde=False, bins=np.arange(stats[column].min(), stats[column].max() + 1, 1))  \n",
    "    #sns.distplot(stats[column], kde=False)  \n",
    "    plt.show()"
   ]
  },
  {
   "cell_type": "code",
   "execution_count": null,
   "metadata": {},
   "outputs": [],
   "source": []
  }
 ],
 "metadata": {
  "kernelspec": {
   "display_name": "Python 3",
   "language": "python",
   "name": "python3"
  },
  "language_info": {
   "codemirror_mode": {
    "name": "ipython",
    "version": 3
   },
   "file_extension": ".py",
   "mimetype": "text/x-python",
   "name": "python",
   "nbconvert_exporter": "python",
   "pygments_lexer": "ipython3",
   "version": "3.6.7"
  }
 },
 "nbformat": 4,
 "nbformat_minor": 2
}
