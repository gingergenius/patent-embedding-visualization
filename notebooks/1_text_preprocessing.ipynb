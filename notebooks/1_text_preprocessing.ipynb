{
 "cells": [
  {
   "cell_type": "markdown",
   "metadata": {},
   "source": [
    "# Text processing: cleaning up text and generating embeddings"
   ]
  },
  {
   "cell_type": "code",
   "execution_count": 1,
   "metadata": {},
   "outputs": [],
   "source": [
    "#TODO: remove after development \n",
    "%load_ext autoreload\n",
    "%autoreload 2"
   ]
  },
  {
   "cell_type": "code",
   "execution_count": 2,
   "metadata": {},
   "outputs": [],
   "source": [
    "%matplotlib inline"
   ]
  },
  {
   "cell_type": "code",
   "execution_count": 3,
   "metadata": {},
   "outputs": [],
   "source": [
    "import pandas as pd\n",
    "import numpy as np\n",
    "import seaborn as sns\n",
    "\n",
    "pd.set_option('display.max_columns', 5400)\n",
    "pd.set_option('max_colwidth', 60)"
   ]
  },
  {
   "cell_type": "markdown",
   "metadata": {},
   "source": [
    "## Loading data"
   ]
  },
  {
   "cell_type": "code",
   "execution_count": 4,
   "metadata": {},
   "outputs": [
    {
     "name": "stdout",
     "output_type": "stream",
     "text": [
      "Loading data from .\\data\\contact_lens\\landscape_data.pkl\n",
      "Finished loading.\n"
     ]
    }
   ],
   "source": [
    "from fiz_lernmodule import data_reader\n",
    "\n",
    "#seed_name = 'hair_dryer'\n",
    "#seed_name = 'video_codec'\n",
    "#seed_name = 'diesel'\n",
    "seed_name = \"contact_lens\"\n",
    "#seed_name = \"contact_lens_us_c\"\n",
    "#seed_name = \"3d_printer\"\n",
    "\n",
    "src_dir = \".\"\n",
    "\n",
    "landscape_reader = data_reader.LandscapeDataReader(src_dir=src_dir)\n",
    "df = landscape_reader.load_data(seed_name=seed_name)\n",
    "\n",
    "df.index = df.index.astype(int)"
   ]
  },
  {
   "cell_type": "code",
   "execution_count": 5,
   "metadata": {},
   "outputs": [
    {
     "data": {
      "text/plain": [
       "(3227, 13)"
      ]
     },
     "execution_count": 5,
     "metadata": {},
     "output_type": "execute_result"
    }
   ],
   "source": [
    "df.shape"
   ]
  },
  {
   "cell_type": "code",
   "execution_count": 6,
   "metadata": {},
   "outputs": [
    {
     "name": "stdout",
     "output_type": "stream",
     "text": [
      "(3225, 13)\n"
     ]
    },
    {
     "data": {
      "text/html": [
       "<div>\n",
       "<style scoped>\n",
       "    .dataframe tbody tr th:only-of-type {\n",
       "        vertical-align: middle;\n",
       "    }\n",
       "\n",
       "    .dataframe tbody tr th {\n",
       "        vertical-align: top;\n",
       "    }\n",
       "\n",
       "    .dataframe thead th {\n",
       "        text-align: right;\n",
       "    }\n",
       "</style>\n",
       "<table border=\"1\" class=\"dataframe\">\n",
       "  <thead>\n",
       "    <tr style=\"text-align: right;\">\n",
       "      <th></th>\n",
       "      <th>pub_num</th>\n",
       "      <th>publication_number</th>\n",
       "      <th>country_code</th>\n",
       "      <th>family_id</th>\n",
       "      <th>priority_date</th>\n",
       "      <th>title_text</th>\n",
       "      <th>abstract_text</th>\n",
       "      <th>claims_text</th>\n",
       "      <th>refs</th>\n",
       "      <th>cpcs</th>\n",
       "      <th>ipcs</th>\n",
       "      <th>assignees_harmonized</th>\n",
       "      <th>ExpansionLevel</th>\n",
       "    </tr>\n",
       "  </thead>\n",
       "  <tbody>\n",
       "    <tr>\n",
       "      <th>0</th>\n",
       "      <td>4104187</td>\n",
       "      <td>US-4104187-A</td>\n",
       "      <td>US</td>\n",
       "      <td>24713901</td>\n",
       "      <td>19760412</td>\n",
       "      <td>Composition and method treating soft contact lenses at e...</td>\n",
       "      <td>Method and compositions are provided for elevated temper...</td>\n",
       "      <td>What is claimed is: \\n     \\n       1. A soft lens therm...</td>\n",
       "      <td>US-3171752-A,US-4013576-A,US-2089212-A,US-3888782-A,US-3...</td>\n",
       "      <td>C11D1/523,C11D3/0078,A61L12/148</td>\n",
       "      <td>C11D17/00,G02C7/04,C11D1/66,C11D1/52,G02C13/00,C11D1/90,...</td>\n",
       "      <td>BARNES HIND PHARM INC</td>\n",
       "      <td>Seed</td>\n",
       "    </tr>\n",
       "    <tr>\n",
       "      <th>1</th>\n",
       "      <td>6000534</td>\n",
       "      <td>US-6000534-A</td>\n",
       "      <td>US</td>\n",
       "      <td>24806490</td>\n",
       "      <td>19960816</td>\n",
       "      <td>Contact lens disinfecting device and disinfection system</td>\n",
       "      <td>The present invention provides a device for disinfecting...</td>\n",
       "      <td>I claim: \\n     \\n       1. A device for disinfecting an...</td>\n",
       "      <td>US-4750610-A,US-4889693-A,US-5143104-A,US-5353949-A,US-5...</td>\n",
       "      <td>A45C11/005,Y10S134/901,A61L12/128</td>\n",
       "      <td>A61L12/12,G02C13/00,A61L2/18,A45C11/00</td>\n",
       "      <td>ALLERGAN SALES INC</td>\n",
       "      <td>Seed</td>\n",
       "    </tr>\n",
       "    <tr>\n",
       "      <th>2</th>\n",
       "      <td>7281794</td>\n",
       "      <td>US-7281794-B2</td>\n",
       "      <td>US</td>\n",
       "      <td>25536666</td>\n",
       "      <td>20011116</td>\n",
       "      <td>Disposable ophthalmic lens</td>\n",
       "      <td>An ophthalmic lens with high definition, wide field of v...</td>\n",
       "      <td>What is claimed and desired to be secured by Letters Pat...</td>\n",
       "      <td>US-6471396-B2,US-4921205-A,US-4613379-A,US-5706073-A,US-...</td>\n",
       "      <td>A61B3/125</td>\n",
       "      <td>G02C7/04,A61B3/125</td>\n",
       "      <td>HEACOCK GREGORY L</td>\n",
       "      <td>Seed</td>\n",
       "    </tr>\n",
       "    <tr>\n",
       "      <th>3</th>\n",
       "      <td>8693104</td>\n",
       "      <td>US-8693104-B2</td>\n",
       "      <td>US</td>\n",
       "      <td>44651943</td>\n",
       "      <td>20100824</td>\n",
       "      <td>Lens with compound linear-convex meniscus wall</td>\n",
       "      <td>The present invention relates generally to an arcuate li...</td>\n",
       "      <td>The invention claimed is: \\n     \\n       1. An optical ...</td>\n",
       "      <td>WO-2008062067-A1,US-7724444-B2,US-7311398-B2,WO-20040998...</td>\n",
       "      <td>G02C7/085,G02B26/004,A61F2/1635,G02C7/08,G02B3/14,G02C7/04</td>\n",
       "      <td>G02B3/12,G02B1/06</td>\n",
       "      <td>KERNICK EDWARD R,RIALL JAMES DANIEL,JOHNSON &amp; JOHNSON VI...</td>\n",
       "      <td>Seed</td>\n",
       "    </tr>\n",
       "    <tr>\n",
       "      <th>4</th>\n",
       "      <td>8215770</td>\n",
       "      <td>US-8215770-B2</td>\n",
       "      <td>US</td>\n",
       "      <td>40337739</td>\n",
       "      <td>20070223</td>\n",
       "      <td>Ophthalmic dynamic aperture</td>\n",
       "      <td>Embodiments of the present invention relate to an electr...</td>\n",
       "      <td>1. An ophthalmic device, comprising:\\n an electro-active...</td>\n",
       "      <td>US-6956682-B2,US-5608567-A,US-5963300-A,US-4904063-A,US-...</td>\n",
       "      <td>G02C7/12,A61F2/145,A61F2250/001,A61F2/141,G02C2202/04,A6...</td>\n",
       "      <td>G02C7/04,A61F2/16</td>\n",
       "      <td>HADDOCK JOSHUA N,VAN HEUGTEN ANTHONY,KOKONASKI WILLIAM,B...</td>\n",
       "      <td>Seed</td>\n",
       "    </tr>\n",
       "  </tbody>\n",
       "</table>\n",
       "</div>"
      ],
      "text/plain": [
       "   pub_num publication_number country_code family_id  priority_date  \\\n",
       "0  4104187       US-4104187-A           US  24713901       19760412   \n",
       "1  6000534       US-6000534-A           US  24806490       19960816   \n",
       "2  7281794      US-7281794-B2           US  25536666       20011116   \n",
       "3  8693104      US-8693104-B2           US  44651943       20100824   \n",
       "4  8215770      US-8215770-B2           US  40337739       20070223   \n",
       "\n",
       "                                                    title_text  \\\n",
       "0  Composition and method treating soft contact lenses at e...   \n",
       "1     Contact lens disinfecting device and disinfection system   \n",
       "2                                   Disposable ophthalmic lens   \n",
       "3               Lens with compound linear-convex meniscus wall   \n",
       "4                                  Ophthalmic dynamic aperture   \n",
       "\n",
       "                                                 abstract_text  \\\n",
       "0  Method and compositions are provided for elevated temper...   \n",
       "1  The present invention provides a device for disinfecting...   \n",
       "2  An ophthalmic lens with high definition, wide field of v...   \n",
       "3  The present invention relates generally to an arcuate li...   \n",
       "4  Embodiments of the present invention relate to an electr...   \n",
       "\n",
       "                                                   claims_text  \\\n",
       "0  What is claimed is: \\n     \\n       1. A soft lens therm...   \n",
       "1  I claim: \\n     \\n       1. A device for disinfecting an...   \n",
       "2  What is claimed and desired to be secured by Letters Pat...   \n",
       "3  The invention claimed is: \\n     \\n       1. An optical ...   \n",
       "4  1. An ophthalmic device, comprising:\\n an electro-active...   \n",
       "\n",
       "                                                          refs  \\\n",
       "0  US-3171752-A,US-4013576-A,US-2089212-A,US-3888782-A,US-3...   \n",
       "1  US-4750610-A,US-4889693-A,US-5143104-A,US-5353949-A,US-5...   \n",
       "2  US-6471396-B2,US-4921205-A,US-4613379-A,US-5706073-A,US-...   \n",
       "3  WO-2008062067-A1,US-7724444-B2,US-7311398-B2,WO-20040998...   \n",
       "4  US-6956682-B2,US-5608567-A,US-5963300-A,US-4904063-A,US-...   \n",
       "\n",
       "                                                          cpcs  \\\n",
       "0                              C11D1/523,C11D3/0078,A61L12/148   \n",
       "1                            A45C11/005,Y10S134/901,A61L12/128   \n",
       "2                                                    A61B3/125   \n",
       "3   G02C7/085,G02B26/004,A61F2/1635,G02C7/08,G02B3/14,G02C7/04   \n",
       "4  G02C7/12,A61F2/145,A61F2250/001,A61F2/141,G02C2202/04,A6...   \n",
       "\n",
       "                                                          ipcs  \\\n",
       "0  C11D17/00,G02C7/04,C11D1/66,C11D1/52,G02C13/00,C11D1/90,...   \n",
       "1                       A61L12/12,G02C13/00,A61L2/18,A45C11/00   \n",
       "2                                           G02C7/04,A61B3/125   \n",
       "3                                            G02B3/12,G02B1/06   \n",
       "4                                            G02C7/04,A61F2/16   \n",
       "\n",
       "                                          assignees_harmonized ExpansionLevel  \n",
       "0                                        BARNES HIND PHARM INC           Seed  \n",
       "1                                           ALLERGAN SALES INC           Seed  \n",
       "2                                            HEACOCK GREGORY L           Seed  \n",
       "3  KERNICK EDWARD R,RIALL JAMES DANIEL,JOHNSON & JOHNSON VI...           Seed  \n",
       "4  HADDOCK JOSHUA N,VAN HEUGTEN ANTHONY,KOKONASKI WILLIAM,B...           Seed  "
      ]
     },
     "execution_count": 6,
     "metadata": {},
     "output_type": "execute_result"
    }
   ],
   "source": [
    "seed = df.loc[df['ExpansionLevel'] == 'Seed']\n",
    "\n",
    "seed.reset_index(inplace = True)\n",
    "seed.drop(columns = ['index'], inplace = True)\n",
    "\n",
    "seed.drop_duplicates([\"publication_number\"], inplace=True)\n",
    "\n",
    "print(seed.shape)\n",
    "seed.head()"
   ]
  },
  {
   "cell_type": "markdown",
   "metadata": {},
   "source": [
    "## Filtering data by year for contact lens dataset"
   ]
  },
  {
   "cell_type": "code",
   "execution_count": 7,
   "metadata": {},
   "outputs": [],
   "source": [
    "from sklearn.model_selection import train_test_split\n",
    "\n",
    "#if seed_name == 'contact_lens':\n",
    "    #sample, rest = train_test_split(seed, train_size=0.33, random_state=42)\n",
    "    #seed = sample    \n",
    "    #print(seed.shape)"
   ]
  },
  {
   "cell_type": "markdown",
   "metadata": {},
   "source": [
    "## Tokenizing and removing stopwords"
   ]
  },
  {
   "cell_type": "code",
   "execution_count": 8,
   "metadata": {},
   "outputs": [],
   "source": [
    "seed[\"text_prep\"] = seed[\"title_text\"].str.cat(seed[[\"abstract_text\"]], sep=\" \")\n",
    "\n",
    "if \"claims_text\" in seed.columns:\n",
    "    seed[\"claims_text\"] = seed[\"claims_text\"].astype('str')\n",
    "    seed[\"text_prep\"] = seed[\"text_prep\"].str.cat(seed[[\"claims_text\"]], sep=\" \")\n",
    "\n",
    "if \"description_text\" in seed.columns:\n",
    "    seed[\"text_prep\"] = seed[\"text_prep\"].str.cat(seed[[\"description_text\"]], sep=\" \")"
   ]
  },
  {
   "cell_type": "code",
   "execution_count": 9,
   "metadata": {},
   "outputs": [
    {
     "name": "stdout",
     "output_type": "stream",
     "text": [
      "[nltk_data] Downloading package stopwords to\n",
      "[nltk_data]     C:\\Users\\tskripnikova\\AppData\\Roaming\\nltk_data...\n",
      "[nltk_data]   Package stopwords is already up-to-date!\n"
     ]
    },
    {
     "name": "stderr",
     "output_type": "stream",
     "text": [
      "Using TensorFlow backend.\n"
     ]
    },
    {
     "data": {
      "text/html": [
       "<div>\n",
       "<style scoped>\n",
       "    .dataframe tbody tr th:only-of-type {\n",
       "        vertical-align: middle;\n",
       "    }\n",
       "\n",
       "    .dataframe tbody tr th {\n",
       "        vertical-align: top;\n",
       "    }\n",
       "\n",
       "    .dataframe thead th {\n",
       "        text-align: right;\n",
       "    }\n",
       "</style>\n",
       "<table border=\"1\" class=\"dataframe\">\n",
       "  <thead>\n",
       "    <tr style=\"text-align: right;\">\n",
       "      <th></th>\n",
       "      <th>pub_num</th>\n",
       "      <th>publication_number</th>\n",
       "      <th>country_code</th>\n",
       "      <th>family_id</th>\n",
       "      <th>priority_date</th>\n",
       "      <th>title_text</th>\n",
       "      <th>abstract_text</th>\n",
       "      <th>claims_text</th>\n",
       "      <th>refs</th>\n",
       "      <th>cpcs</th>\n",
       "      <th>ipcs</th>\n",
       "      <th>assignees_harmonized</th>\n",
       "      <th>ExpansionLevel</th>\n",
       "      <th>text_prep</th>\n",
       "      <th>tokens</th>\n",
       "    </tr>\n",
       "  </thead>\n",
       "  <tbody>\n",
       "    <tr>\n",
       "      <th>0</th>\n",
       "      <td>4104187</td>\n",
       "      <td>US-4104187-A</td>\n",
       "      <td>US</td>\n",
       "      <td>24713901</td>\n",
       "      <td>19760412</td>\n",
       "      <td>Composition and method treating soft contact lenses at e...</td>\n",
       "      <td>Method and compositions are provided for elevated temper...</td>\n",
       "      <td>What is claimed is: \\n     \\n       1. A soft lens therm...</td>\n",
       "      <td>US-3171752-A,US-4013576-A,US-2089212-A,US-3888782-A,US-3...</td>\n",
       "      <td>C11D1/523,C11D3/0078,A61L12/148</td>\n",
       "      <td>C11D17/00,G02C7/04,C11D1/66,C11D1/52,G02C13/00,C11D1/90,...</td>\n",
       "      <td>BARNES HIND PHARM INC</td>\n",
       "      <td>Seed</td>\n",
       "      <td>Composition and method treating soft contact lenses at e...</td>\n",
       "      <td>[composition, treating, soft, contact, lenses, elevated,...</td>\n",
       "    </tr>\n",
       "    <tr>\n",
       "      <th>1</th>\n",
       "      <td>6000534</td>\n",
       "      <td>US-6000534-A</td>\n",
       "      <td>US</td>\n",
       "      <td>24806490</td>\n",
       "      <td>19960816</td>\n",
       "      <td>Contact lens disinfecting device and disinfection system</td>\n",
       "      <td>The present invention provides a device for disinfecting...</td>\n",
       "      <td>I claim: \\n     \\n       1. A device for disinfecting an...</td>\n",
       "      <td>US-4750610-A,US-4889693-A,US-5143104-A,US-5353949-A,US-5...</td>\n",
       "      <td>A45C11/005,Y10S134/901,A61L12/128</td>\n",
       "      <td>A61L12/12,G02C13/00,A61L2/18,A45C11/00</td>\n",
       "      <td>ALLERGAN SALES INC</td>\n",
       "      <td>Seed</td>\n",
       "      <td>Contact lens disinfecting device and disinfection system...</td>\n",
       "      <td>[contact, lens, disinfecting, device, disinfection, syst...</td>\n",
       "    </tr>\n",
       "    <tr>\n",
       "      <th>2</th>\n",
       "      <td>7281794</td>\n",
       "      <td>US-7281794-B2</td>\n",
       "      <td>US</td>\n",
       "      <td>25536666</td>\n",
       "      <td>20011116</td>\n",
       "      <td>Disposable ophthalmic lens</td>\n",
       "      <td>An ophthalmic lens with high definition, wide field of v...</td>\n",
       "      <td>What is claimed and desired to be secured by Letters Pat...</td>\n",
       "      <td>US-6471396-B2,US-4921205-A,US-4613379-A,US-5706073-A,US-...</td>\n",
       "      <td>A61B3/125</td>\n",
       "      <td>G02C7/04,A61B3/125</td>\n",
       "      <td>HEACOCK GREGORY L</td>\n",
       "      <td>Seed</td>\n",
       "      <td>Disposable ophthalmic lens An ophthalmic lens with high ...</td>\n",
       "      <td>[disposable, ophthalmic, lens, ophthalmic, lens, high, d...</td>\n",
       "    </tr>\n",
       "    <tr>\n",
       "      <th>3</th>\n",
       "      <td>8693104</td>\n",
       "      <td>US-8693104-B2</td>\n",
       "      <td>US</td>\n",
       "      <td>44651943</td>\n",
       "      <td>20100824</td>\n",
       "      <td>Lens with compound linear-convex meniscus wall</td>\n",
       "      <td>The present invention relates generally to an arcuate li...</td>\n",
       "      <td>The invention claimed is: \\n     \\n       1. An optical ...</td>\n",
       "      <td>WO-2008062067-A1,US-7724444-B2,US-7311398-B2,WO-20040998...</td>\n",
       "      <td>G02C7/085,G02B26/004,A61F2/1635,G02C7/08,G02B3/14,G02C7/04</td>\n",
       "      <td>G02B3/12,G02B1/06</td>\n",
       "      <td>KERNICK EDWARD R,RIALL JAMES DANIEL,JOHNSON &amp; JOHNSON VI...</td>\n",
       "      <td>Seed</td>\n",
       "      <td>Lens with compound linear-convex meniscus wall The prese...</td>\n",
       "      <td>[lens, compound, linear, convex, meniscus, wall, arcuate...</td>\n",
       "    </tr>\n",
       "    <tr>\n",
       "      <th>4</th>\n",
       "      <td>8215770</td>\n",
       "      <td>US-8215770-B2</td>\n",
       "      <td>US</td>\n",
       "      <td>40337739</td>\n",
       "      <td>20070223</td>\n",
       "      <td>Ophthalmic dynamic aperture</td>\n",
       "      <td>Embodiments of the present invention relate to an electr...</td>\n",
       "      <td>1. An ophthalmic device, comprising:\\n an electro-active...</td>\n",
       "      <td>US-6956682-B2,US-5608567-A,US-5963300-A,US-4904063-A,US-...</td>\n",
       "      <td>G02C7/12,A61F2/145,A61F2250/001,A61F2/141,G02C2202/04,A6...</td>\n",
       "      <td>G02C7/04,A61F2/16</td>\n",
       "      <td>HADDOCK JOSHUA N,VAN HEUGTEN ANTHONY,KOKONASKI WILLIAM,B...</td>\n",
       "      <td>Seed</td>\n",
       "      <td>Ophthalmic dynamic aperture Embodiments of the present i...</td>\n",
       "      <td>[ophthalmic, dynamic, aperture, embodiments, electro, ac...</td>\n",
       "    </tr>\n",
       "  </tbody>\n",
       "</table>\n",
       "</div>"
      ],
      "text/plain": [
       "   pub_num publication_number country_code family_id  priority_date  \\\n",
       "0  4104187       US-4104187-A           US  24713901       19760412   \n",
       "1  6000534       US-6000534-A           US  24806490       19960816   \n",
       "2  7281794      US-7281794-B2           US  25536666       20011116   \n",
       "3  8693104      US-8693104-B2           US  44651943       20100824   \n",
       "4  8215770      US-8215770-B2           US  40337739       20070223   \n",
       "\n",
       "                                                    title_text  \\\n",
       "0  Composition and method treating soft contact lenses at e...   \n",
       "1     Contact lens disinfecting device and disinfection system   \n",
       "2                                   Disposable ophthalmic lens   \n",
       "3               Lens with compound linear-convex meniscus wall   \n",
       "4                                  Ophthalmic dynamic aperture   \n",
       "\n",
       "                                                 abstract_text  \\\n",
       "0  Method and compositions are provided for elevated temper...   \n",
       "1  The present invention provides a device for disinfecting...   \n",
       "2  An ophthalmic lens with high definition, wide field of v...   \n",
       "3  The present invention relates generally to an arcuate li...   \n",
       "4  Embodiments of the present invention relate to an electr...   \n",
       "\n",
       "                                                   claims_text  \\\n",
       "0  What is claimed is: \\n     \\n       1. A soft lens therm...   \n",
       "1  I claim: \\n     \\n       1. A device for disinfecting an...   \n",
       "2  What is claimed and desired to be secured by Letters Pat...   \n",
       "3  The invention claimed is: \\n     \\n       1. An optical ...   \n",
       "4  1. An ophthalmic device, comprising:\\n an electro-active...   \n",
       "\n",
       "                                                          refs  \\\n",
       "0  US-3171752-A,US-4013576-A,US-2089212-A,US-3888782-A,US-3...   \n",
       "1  US-4750610-A,US-4889693-A,US-5143104-A,US-5353949-A,US-5...   \n",
       "2  US-6471396-B2,US-4921205-A,US-4613379-A,US-5706073-A,US-...   \n",
       "3  WO-2008062067-A1,US-7724444-B2,US-7311398-B2,WO-20040998...   \n",
       "4  US-6956682-B2,US-5608567-A,US-5963300-A,US-4904063-A,US-...   \n",
       "\n",
       "                                                          cpcs  \\\n",
       "0                              C11D1/523,C11D3/0078,A61L12/148   \n",
       "1                            A45C11/005,Y10S134/901,A61L12/128   \n",
       "2                                                    A61B3/125   \n",
       "3   G02C7/085,G02B26/004,A61F2/1635,G02C7/08,G02B3/14,G02C7/04   \n",
       "4  G02C7/12,A61F2/145,A61F2250/001,A61F2/141,G02C2202/04,A6...   \n",
       "\n",
       "                                                          ipcs  \\\n",
       "0  C11D17/00,G02C7/04,C11D1/66,C11D1/52,G02C13/00,C11D1/90,...   \n",
       "1                       A61L12/12,G02C13/00,A61L2/18,A45C11/00   \n",
       "2                                           G02C7/04,A61B3/125   \n",
       "3                                            G02B3/12,G02B1/06   \n",
       "4                                            G02C7/04,A61F2/16   \n",
       "\n",
       "                                          assignees_harmonized ExpansionLevel  \\\n",
       "0                                        BARNES HIND PHARM INC           Seed   \n",
       "1                                           ALLERGAN SALES INC           Seed   \n",
       "2                                            HEACOCK GREGORY L           Seed   \n",
       "3  KERNICK EDWARD R,RIALL JAMES DANIEL,JOHNSON & JOHNSON VI...           Seed   \n",
       "4  HADDOCK JOSHUA N,VAN HEUGTEN ANTHONY,KOKONASKI WILLIAM,B...           Seed   \n",
       "\n",
       "                                                     text_prep  \\\n",
       "0  Composition and method treating soft contact lenses at e...   \n",
       "1  Contact lens disinfecting device and disinfection system...   \n",
       "2  Disposable ophthalmic lens An ophthalmic lens with high ...   \n",
       "3  Lens with compound linear-convex meniscus wall The prese...   \n",
       "4  Ophthalmic dynamic aperture Embodiments of the present i...   \n",
       "\n",
       "                                                        tokens  \n",
       "0  [composition, treating, soft, contact, lenses, elevated,...  \n",
       "1  [contact, lens, disinfecting, device, disinfection, syst...  \n",
       "2  [disposable, ophthalmic, lens, ophthalmic, lens, high, d...  \n",
       "3  [lens, compound, linear, convex, meniscus, wall, arcuate...  \n",
       "4  [ophthalmic, dynamic, aperture, embodiments, electro, ac...  "
      ]
     },
     "execution_count": 9,
     "metadata": {},
     "output_type": "execute_result"
    }
   ],
   "source": [
    "from fiz_lernmodule.preprocessing import PreProcessor\n",
    "\n",
    "pre = PreProcessor()\n",
    "\n",
    "seed['tokens'] = seed['text_prep'].map(lambda t: pre.preprocess_text(t, remove_short_long = True))\n",
    "seed.head()"
   ]
  },
  {
   "cell_type": "markdown",
   "metadata": {},
   "source": [
    "### Checking distribution of data"
   ]
  },
  {
   "cell_type": "code",
   "execution_count": 10,
   "metadata": {},
   "outputs": [
    {
     "name": "stdout",
     "output_type": "stream",
     "text": [
      "421.99937984496125\n"
     ]
    },
    {
     "data": {
      "text/plain": [
       "Text(0, 0.5, 'Count')"
      ]
     },
     "execution_count": 10,
     "metadata": {},
     "output_type": "execute_result"
    },
    {
     "data": {
      "image/png": "[encoded data removed]",
      "text/plain": [
       "<Figure size 1440x432 with 1 Axes>"
      ]
     },
     "metadata": {
      "needs_background": "light"
     },
     "output_type": "display_data"
    }
   ],
   "source": [
    "import matplotlib.pyplot as plt\n",
    "\n",
    "stats = pd.DataFrame()\n",
    "stats['total_words'] = seed['tokens'].apply(lambda x: len(x))\n",
    "\n",
    "m = np.mean(stats.total_words)\n",
    "print(m)\n",
    "\n",
    "plt.subplots(figsize=(20,6))\n",
    "stats['total_words'].hist(bins = np.arange(0, m*4, m/50))\n",
    "plt.xlabel('Total words')\n",
    "plt.ylabel('Count')"
   ]
  },
  {
   "cell_type": "markdown",
   "metadata": {},
   "source": [
    "### Removing patents with not enough text (less than 30 words)"
   ]
  },
  {
   "cell_type": "code",
   "execution_count": 11,
   "metadata": {},
   "outputs": [],
   "source": [
    "seed = seed[seed['tokens'].apply(lambda x: len(x) > 30)]\n",
    "seed.reset_index(drop=True, inplace=True)"
   ]
  },
  {
   "cell_type": "code",
   "execution_count": 12,
   "metadata": {},
   "outputs": [],
   "source": [
    "import pickle\n",
    "\n",
    "with open(src_dir + \"/data/\" + seed_name + '/cleaned_text.pkl', 'wb') as outfile:\n",
    "    pickle.dump(seed, outfile, protocol=pickle.HIGHEST_PROTOCOL)"
   ]
  },
  {
   "cell_type": "code",
   "execution_count": null,
   "metadata": {},
   "outputs": [],
   "source": []
  }
 ],
 "metadata": {
  "kernelspec": {
   "display_name": "Python 3",
   "language": "python",
   "name": "python3"
  },
  "language_info": {
   "codemirror_mode": {
    "name": "ipython",
    "version": 3
   },
   "file_extension": ".py",
   "mimetype": "text/x-python",
   "name": "python",
   "nbconvert_exporter": "python",
   "pygments_lexer": "ipython3",
   "version": "3.6.7"
  }
 },
 "nbformat": 4,
 "nbformat_minor": 2
}
