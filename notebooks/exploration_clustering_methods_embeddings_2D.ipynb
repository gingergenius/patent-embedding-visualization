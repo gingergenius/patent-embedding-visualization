{
 "cells": [
  {
   "cell_type": "markdown",
   "metadata": {},
   "source": [
    "# Hierarchical clustering parameters: method and distance metric"
   ]
  },
  {
   "cell_type": "code",
   "execution_count": 1,
   "metadata": {},
   "outputs": [],
   "source": [
    "#TODO: remove after development \n",
    "%load_ext autoreload\n",
    "%autoreload 2"
   ]
  },
  {
   "cell_type": "code",
   "execution_count": 2,
   "metadata": {},
   "outputs": [],
   "source": [
    "%matplotlib inline"
   ]
  },
  {
   "cell_type": "code",
   "execution_count": 3,
   "metadata": {},
   "outputs": [],
   "source": [
    "import numpy as np\n",
    "import matplotlib.pyplot as plt\n",
    "import seaborn as sns; sns.set()\n",
    "import pandas as pd\n",
    "\n",
    "pd.set_option('display.max_columns', 5400)\n",
    "pd.set_option('max_colwidth', 50)"
   ]
  },
  {
   "cell_type": "markdown",
   "metadata": {},
   "source": [
    "## Loading data"
   ]
  },
  {
   "cell_type": "code",
   "execution_count": 4,
   "metadata": {},
   "outputs": [],
   "source": [
    "#seed_name = 'hair_dryer'\n",
    "#seed_name = 'video_codec'\n",
    "#seed_name = 'diesel'\n",
    "#seed_name = \"contact_lens\"\n",
    "seed_name = \"3d_printer\"\n",
    "\n",
    "src_dir = \".\""
   ]
  },
  {
   "cell_type": "code",
   "execution_count": 5,
   "metadata": {},
   "outputs": [
    {
     "name": "stdout",
     "output_type": "stream",
     "text": [
      "(417, 17)\n"
     ]
    },
    {
     "data": {
      "text/html": [
       "<div>\n",
       "<style scoped>\n",
       "    .dataframe tbody tr th:only-of-type {\n",
       "        vertical-align: middle;\n",
       "    }\n",
       "\n",
       "    .dataframe tbody tr th {\n",
       "        vertical-align: top;\n",
       "    }\n",
       "\n",
       "    .dataframe thead th {\n",
       "        text-align: right;\n",
       "    }\n",
       "</style>\n",
       "<table border=\"1\" class=\"dataframe\">\n",
       "  <thead>\n",
       "    <tr style=\"text-align: right;\">\n",
       "      <th></th>\n",
       "      <th>pub_num</th>\n",
       "      <th>publication_number</th>\n",
       "      <th>country_code</th>\n",
       "      <th>family_id</th>\n",
       "      <th>priority_date</th>\n",
       "      <th>title_text</th>\n",
       "      <th>abstract_text</th>\n",
       "      <th>claims_text</th>\n",
       "      <th>refs</th>\n",
       "      <th>cpcs</th>\n",
       "      <th>ipcs</th>\n",
       "      <th>assignees_harmonized</th>\n",
       "      <th>ExpansionLevel</th>\n",
       "      <th>text_prep</th>\n",
       "      <th>tokens</th>\n",
       "      <th>x</th>\n",
       "      <th>y</th>\n",
       "    </tr>\n",
       "  </thead>\n",
       "  <tbody>\n",
       "    <tr>\n",
       "      <th>0</th>\n",
       "      <td>8813847</td>\n",
       "      <td>US-8813847-B2</td>\n",
       "      <td>US</td>\n",
       "      <td>44509594</td>\n",
       "      <td>20080326</td>\n",
       "      <td>Hydraulic fracturing</td>\n",
       "      <td>An improvement over known hydraulic fracturing...</td>\n",
       "      <td>What is claimed is: \\n     \\n       1. A metho...</td>\n",
       "      <td>US-7122509-B2,US-2006175060-A1,US-7299876-B2,U...</td>\n",
       "      <td>C09K2208/10,C09K8/032,C09K8/70,C09K2208/28,C09...</td>\n",
       "      <td>C08K3/34,C09K8/68,C09K8/62,C09K8/80,C08K3/40,C...</td>\n",
       "      <td>ECOPURO LLC</td>\n",
       "      <td>Seed</td>\n",
       "      <td>Hydraulic fracturing An improvement over known...</td>\n",
       "      <td>[hydraulic, fracturing, improvement, hydraulic...</td>\n",
       "      <td>-12.141430</td>\n",
       "      <td>-5.289605</td>\n",
       "    </tr>\n",
       "    <tr>\n",
       "      <th>1</th>\n",
       "      <td>9987792</td>\n",
       "      <td>US-9987792-B2</td>\n",
       "      <td>US</td>\n",
       "      <td>52110245</td>\n",
       "      <td>20130623</td>\n",
       "      <td>Methods and apparatus for mobile additive manu...</td>\n",
       "      <td>The present disclosure provides various aspect...</td>\n",
       "      <td>The invention claimed is: \\n     \\n       1. A...</td>\n",
       "      <td>US-2013295338-A1,CN-202202237-U,US-2013051913-...</td>\n",
       "      <td>B29C64/386,E01C23/07,E01C11/005,B29C64/20,B29L...</td>\n",
       "      <td>E01C23/01,E01C23/06,B29C64/20,E01C11/00,B33Y50...</td>\n",
       "      <td>FLITSCH ROBERT A,FLITSCH FREDERICK A</td>\n",
       "      <td>Seed</td>\n",
       "      <td>Methods and apparatus for mobile additive manu...</td>\n",
       "      <td>[methods, apparatus, mobile, additive, manufac...</td>\n",
       "      <td>17.464500</td>\n",
       "      <td>-9.535550</td>\n",
       "    </tr>\n",
       "    <tr>\n",
       "      <th>2</th>\n",
       "      <td>2017305137</td>\n",
       "      <td>US-2017305137-A1</td>\n",
       "      <td>US</td>\n",
       "      <td>52110245</td>\n",
       "      <td>20130623</td>\n",
       "      <td>Methods and apparatus for mobile additive manu...</td>\n",
       "      <td>The present disclosure provides various aspect...</td>\n",
       "      <td>1 . A mobile additive manufacturing apparatus ...</td>\n",
       "      <td>US-2011146111-A1,US-4881361-A,US-2009000323-A1</td>\n",
       "      <td>E01C23/07,E01C23/01,E01C11/005,E01C23/0966,B29...</td>\n",
       "      <td>B29L31/00,E01C11/00,E01C23/06,E01C23/01,B33Y30...</td>\n",
       "      <td>FLITSCH ROBERT A,FLITSCH FREDERICK A</td>\n",
       "      <td>Seed</td>\n",
       "      <td>Methods and apparatus for mobile additive manu...</td>\n",
       "      <td>[methods, apparatus, mobile, additive, manufac...</td>\n",
       "      <td>-0.840286</td>\n",
       "      <td>10.265307</td>\n",
       "    </tr>\n",
       "    <tr>\n",
       "      <th>3</th>\n",
       "      <td>8791194</td>\n",
       "      <td>US-8791194-B2</td>\n",
       "      <td>US</td>\n",
       "      <td>42099462</td>\n",
       "      <td>20080326</td>\n",
       "      <td>Structurally enhanced plastics with filler rei...</td>\n",
       "      <td>A composition comprising a fluid, and a materi...</td>\n",
       "      <td>What is claimed is: \\n     \\n       1. A metho...</td>\n",
       "      <td>US-2006012074-A1,US-2007048527-A1,US-200405405...</td>\n",
       "      <td>C08K3/34,B29K2105/0032,F15D1/12,B29B7/002,B29C...</td>\n",
       "      <td>C08K3/34,C08J5/16,C08K7/26</td>\n",
       "      <td>ECOPURO LLC</td>\n",
       "      <td>Seed</td>\n",
       "      <td>Structurally enhanced plastics with filler rei...</td>\n",
       "      <td>[structurally, enhanced, plastics, filler, rei...</td>\n",
       "      <td>-11.728927</td>\n",
       "      <td>-3.468357</td>\n",
       "    </tr>\n",
       "    <tr>\n",
       "      <th>4</th>\n",
       "      <td>2015194255</td>\n",
       "      <td>US-2015194255-A1</td>\n",
       "      <td>US</td>\n",
       "      <td>53495741</td>\n",
       "      <td>20140106</td>\n",
       "      <td>Energy management system</td>\n",
       "      <td>A split-flux transformer has a primary or inpu...</td>\n",
       "      <td>1 . A split flux transformer comprising\\n a. a...</td>\n",
       "      <td>US-3553620-A,US-5555494-A</td>\n",
       "      <td>H02N11/008,H01F27/28,H01F27/38,H01F30/10</td>\n",
       "      <td>H01F27/28</td>\n",
       "      <td>ALEK WILLIAM</td>\n",
       "      <td>Seed</td>\n",
       "      <td>Energy management system A split-flux transfor...</td>\n",
       "      <td>[energy, management, system, split, flux, tran...</td>\n",
       "      <td>29.331837</td>\n",
       "      <td>-16.537663</td>\n",
       "    </tr>\n",
       "  </tbody>\n",
       "</table>\n",
       "</div>"
      ],
      "text/plain": [
       "      pub_num publication_number country_code family_id  priority_date  \\\n",
       "0     8813847      US-8813847-B2           US  44509594       20080326   \n",
       "1     9987792      US-9987792-B2           US  52110245       20130623   \n",
       "2  2017305137   US-2017305137-A1           US  52110245       20130623   \n",
       "3     8791194      US-8791194-B2           US  42099462       20080326   \n",
       "4  2015194255   US-2015194255-A1           US  53495741       20140106   \n",
       "\n",
       "                                          title_text  \\\n",
       "0                               Hydraulic fracturing   \n",
       "1  Methods and apparatus for mobile additive manu...   \n",
       "2  Methods and apparatus for mobile additive manu...   \n",
       "3  Structurally enhanced plastics with filler rei...   \n",
       "4                           Energy management system   \n",
       "\n",
       "                                       abstract_text  \\\n",
       "0  An improvement over known hydraulic fracturing...   \n",
       "1  The present disclosure provides various aspect...   \n",
       "2  The present disclosure provides various aspect...   \n",
       "3  A composition comprising a fluid, and a materi...   \n",
       "4  A split-flux transformer has a primary or inpu...   \n",
       "\n",
       "                                         claims_text  \\\n",
       "0  What is claimed is: \\n     \\n       1. A metho...   \n",
       "1  The invention claimed is: \\n     \\n       1. A...   \n",
       "2  1 . A mobile additive manufacturing apparatus ...   \n",
       "3  What is claimed is: \\n     \\n       1. A metho...   \n",
       "4  1 . A split flux transformer comprising\\n a. a...   \n",
       "\n",
       "                                                refs  \\\n",
       "0  US-7122509-B2,US-2006175060-A1,US-7299876-B2,U...   \n",
       "1  US-2013295338-A1,CN-202202237-U,US-2013051913-...   \n",
       "2     US-2011146111-A1,US-4881361-A,US-2009000323-A1   \n",
       "3  US-2006012074-A1,US-2007048527-A1,US-200405405...   \n",
       "4                          US-3553620-A,US-5555494-A   \n",
       "\n",
       "                                                cpcs  \\\n",
       "0  C09K2208/10,C09K8/032,C09K8/70,C09K2208/28,C09...   \n",
       "1  B29C64/386,E01C23/07,E01C11/005,B29C64/20,B29L...   \n",
       "2  E01C23/07,E01C23/01,E01C11/005,E01C23/0966,B29...   \n",
       "3  C08K3/34,B29K2105/0032,F15D1/12,B29B7/002,B29C...   \n",
       "4           H02N11/008,H01F27/28,H01F27/38,H01F30/10   \n",
       "\n",
       "                                                ipcs  \\\n",
       "0  C08K3/34,C09K8/68,C09K8/62,C09K8/80,C08K3/40,C...   \n",
       "1  E01C23/01,E01C23/06,B29C64/20,E01C11/00,B33Y50...   \n",
       "2  B29L31/00,E01C11/00,E01C23/06,E01C23/01,B33Y30...   \n",
       "3                         C08K3/34,C08J5/16,C08K7/26   \n",
       "4                                          H01F27/28   \n",
       "\n",
       "                   assignees_harmonized ExpansionLevel  \\\n",
       "0                           ECOPURO LLC           Seed   \n",
       "1  FLITSCH ROBERT A,FLITSCH FREDERICK A           Seed   \n",
       "2  FLITSCH ROBERT A,FLITSCH FREDERICK A           Seed   \n",
       "3                           ECOPURO LLC           Seed   \n",
       "4                          ALEK WILLIAM           Seed   \n",
       "\n",
       "                                           text_prep  \\\n",
       "0  Hydraulic fracturing An improvement over known...   \n",
       "1  Methods and apparatus for mobile additive manu...   \n",
       "2  Methods and apparatus for mobile additive manu...   \n",
       "3  Structurally enhanced plastics with filler rei...   \n",
       "4  Energy management system A split-flux transfor...   \n",
       "\n",
       "                                              tokens          x          y  \n",
       "0  [hydraulic, fracturing, improvement, hydraulic... -12.141430  -5.289605  \n",
       "1  [methods, apparatus, mobile, additive, manufac...  17.464500  -9.535550  \n",
       "2  [methods, apparatus, mobile, additive, manufac...  -0.840286  10.265307  \n",
       "3  [structurally, enhanced, plastics, filler, rei... -11.728927  -3.468357  \n",
       "4  [energy, management, system, split, flux, tran...  29.331837 -16.537663  "
      ]
     },
     "execution_count": 5,
     "metadata": {},
     "output_type": "execute_result"
    }
   ],
   "source": [
    "import pickle\n",
    "\n",
    "with open(src_dir + \"/data/\" + seed_name + \"/tsne.pkl\", 'rb') as infile:\n",
    "    df = pickle.load(infile)\n",
    "    \n",
    "print(df.shape)\n",
    "df.head()"
   ]
  },
  {
   "cell_type": "markdown",
   "metadata": {},
   "source": [
    "### Hierarchical clustering"
   ]
  },
  {
   "cell_type": "markdown",
   "metadata": {},
   "source": [
    "Checking the Cophenetic Correlation Coefficient of the clustering.<br> \n",
    "This compares (correlates) the actual pairwise distances of all samples to those implied by the hierarchical clustering.<br>\n",
    "The closer the value is to 1, the better the clustering preserves the original distances"
   ]
  },
  {
   "cell_type": "code",
   "execution_count": 6,
   "metadata": {},
   "outputs": [],
   "source": [
    "import scipy.cluster.hierarchy as shc\n",
    "from scipy.cluster.hierarchy import cophenet\n",
    "from scipy.spatial.distance import pdist\n",
    "\n",
    "clustering_features = df[[\"x\", \"y\"]]"
   ]
  },
  {
   "cell_type": "code",
   "execution_count": 7,
   "metadata": {
    "scrolled": true
   },
   "outputs": [
    {
     "name": "stdout",
     "output_type": "stream",
     "text": [
      "euclidean metric\n",
      "single 0.24794800700082634\n",
      "complete 0.6412017059948265\n",
      "average 0.6885160158519823\n",
      "weighted 0.6501049523817332\n",
      "centroid 0.7012128226604628\n",
      "median 0.6372159361399499\n",
      "ward 0.6667966427340508\n",
      "\n",
      "\n",
      "cosine metric\n",
      "single 0.6649218676276618\n",
      "complete 0.6022466655220843\n",
      "average 0.6846812782883936\n",
      "weighted 0.6621338340082179\n",
      "\n",
      "\n",
      "braycurtis metric\n",
      "single -0.017304007024223376\n",
      "complete 0.45637340162624335\n",
      "average 0.6385425801551678\n",
      "weighted 0.6520124703745246\n",
      "\n",
      "\n",
      "Wall time: 78.1 ms\n"
     ]
    }
   ],
   "source": [
    "%%time\n",
    "\n",
    "methods = [\"single\", \"complete\", \"average\", 'weighted', 'centroid', 'median', 'ward']\n",
    "metrics = ['euclidean', 'cosine', 'braycurtis']\n",
    "\n",
    "for metric in metrics:\n",
    "    print(metric + \" metric\")\n",
    "    for method in methods:\n",
    "        if (method in ['centroid', 'median', 'ward'] and metric != 'euclidean'):\n",
    "            continue\n",
    "        else:\n",
    "            linkage = shc.linkage(clustering_features, method=method, metric=metric)\n",
    "            c, coph_dists = cophenet(linkage, pdist(clustering_features))\n",
    "            print(method + \" \" + str(c))\n",
    "    print(\"\\n\")"
   ]
  },
  {
   "cell_type": "markdown",
   "metadata": {},
   "source": [
    "Based on this linkage we can plot the dendogram.<br>\n",
    "\n",
    "The parameter `max_d` gives you the possibility to decide at which `x` value you want to split."
   ]
  },
  {
   "cell_type": "code",
   "execution_count": 8,
   "metadata": {},
   "outputs": [
    {
     "name": "stdout",
     "output_type": "stream",
     "text": [
      "Wall time: 205 ms\n"
     ]
    }
   ],
   "source": [
    "%%time\n",
    "\n",
    "linkage = shc.linkage(clustering_features, method='average', metric='euclidean', optimal_ordering=True)"
   ]
  },
  {
   "cell_type": "code",
   "execution_count": 15,
   "metadata": {},
   "outputs": [],
   "source": [
    "max_d = {}\n",
    "max_d[\"hair_dryer\"] = {\"big\": 10, \"medium\": 3.5, \"small\": 1}\n",
    "max_d[\"video_codec\"] = {\"big\": 45, \"medium\": 18, \"small\": 10}\n",
    "max_d[\"diesel\"] = {\"big\": 45, \"medium\": 18, \"small\": 10}\n",
    "max_d[\"contact_lens\"] = {\"big\": 45, \"medium\": 20, \"small\": 10}\n",
    "max_d[\"3d_printer\"] = {\"big\": 20, \"medium\": 10, \"small\": 5}"
   ]
  },
  {
   "cell_type": "code",
   "execution_count": 16,
   "metadata": {
    "scrolled": true
   },
   "outputs": [
    {
     "name": "stdout",
     "output_type": "stream",
     "text": [
      "Wall time: 133 ms\n"
     ]
    },
    {
     "data": {
      "image/png": "[encoded data removed]",
      "text/plain": [
       "<Figure size 1800x720 with 1 Axes>"
      ]
     },
     "metadata": {},
     "output_type": "display_data"
    }
   ],
   "source": [
    "%%time\n",
    "\n",
    "plt.figure(figsize=(25, 10))  \n",
    "plt.title(\"Dendogram for dataset \" + seed_name)\n",
    "\n",
    "dend = shc.dendrogram(linkage, p=7, truncate_mode='level', orientation='left', show_leaf_counts=True, show_contracted=True)\n",
    "\n",
    "for k, v in max_d[seed_name].items():\n",
    "    plt.axvline(x=v, c='k')"
   ]
  },
  {
   "cell_type": "markdown",
   "metadata": {},
   "source": [
    "fcluster predicts the cluster membership for all objects in our dataset (id's from 1 to n)."
   ]
  },
  {
   "cell_type": "code",
   "execution_count": 17,
   "metadata": {
    "scrolled": true
   },
   "outputs": [
    {
     "name": "stdout",
     "output_type": "stream",
     "text": [
      "3 clusters at cluster size big\n",
      "17 clusters at cluster size medium\n",
      "50 clusters at cluster size small\n"
     ]
    }
   ],
   "source": [
    "from scipy.cluster.hierarchy import fcluster\n",
    "\n",
    "cluster_sizes =  ['big', 'medium', 'small']\n",
    "\n",
    "for size in cluster_sizes:\n",
    "    fcluster_pred = fcluster(linkage, max_d[seed_name][size], criterion='distance')\n",
    "    print(str(len(pd.unique(fcluster_pred))) + ' clusters at cluster size ' + str(size))"
   ]
  },
  {
   "cell_type": "code",
   "execution_count": null,
   "metadata": {},
   "outputs": [],
   "source": []
  }
 ],
 "metadata": {
  "kernelspec": {
   "display_name": "Python 3",
   "language": "python",
   "name": "python3"
  },
  "language_info": {
   "codemirror_mode": {
    "name": "ipython",
    "version": 3
   },
   "file_extension": ".py",
   "mimetype": "text/x-python",
   "name": "python",
   "nbconvert_exporter": "python",
   "pygments_lexer": "ipython3",
   "version": "3.6.7"
  }
 },
 "nbformat": 4,
 "nbformat_minor": 2
}
